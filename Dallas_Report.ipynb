{
 "cells": [
  {
   "cell_type": "markdown",
   "metadata": {},
   "source": [
    "# Segmenting and Clustering Neighborhoods in Dallas\n",
    "By Alex P. Blizzard"
   ]
  },
  {
   "cell_type": "markdown",
   "metadata": {},
   "source": [
    "## Introduction\n",
    "\n",
    "Food movements are rising in popularity around the world in younger generations, and the newest southern \n",
    "metroplex to adopt this “foodie” philosophy is Dallas, Texas. This prime destination is known for its wide \n",
    "variety of cuisines from famous Texas barbecue to upscale-hipster ramen bars. For a business owner looking \n",
    "to open a restaurant, downtown Dallas is the perfect location to reach the young “foodie” professionals. \n",
    "With downtown Dallas being so large containing 14 districts with an already massive restaurant population, \n",
    "where would be the ideal location to open a new restaurant? Which district would bring in the most customers?\n",
    "What kind of restaurant would be best for that district? This study utilizes a variety of data analytics to \n",
    "answer these questions. The interpretations of the data are important to a restaurant owner as the restaurant \n",
    "business is one of the riskiest investments, but with data science: one can minimize that risk."
   ]
  },
  {
   "cell_type": "markdown",
   "metadata": {},
   "source": [
    "## Data\n",
    "\n",
    "The data that will be analyzed in this study is a excel spreadsheet (csv file) containing the 14 neighborhood\n",
    "districts in downtown Dallas, along with their corresponding coordinates. The coordinates were collected using\n",
    "google maps as some districts were not identified on foursquare. Venues data will be collected through an API\n",
    "with foursquare, a technology company with a location platform. Within each neighborhood, 100 venues will be \n",
    "collected within a 500-meter (1,640 feet) radius.\tWith data science, the venue’s category can be assigned a\n",
    "statistical variable (one-hot coding) and manipulated to identify the most frequent venue in that \n",
    "neighborhood. Using k means clustering, a unsupervised machine learning algorithm, the neighborhoods can be\n",
    "clustered together that contain the most similarity in venue frequency."
   ]
  },
  {
   "cell_type": "code",
   "execution_count": null,
   "metadata": {},
   "outputs": [],
   "source": []
  }
 ],
 "metadata": {
  "kernelspec": {
   "display_name": "Python",
   "language": "python",
   "name": "conda-env-python-py"
  },
  "language_info": {
   "codemirror_mode": {
    "name": "ipython",
    "version": 3
   },
   "file_extension": ".py",
   "mimetype": "text/x-python",
   "name": "python",
   "nbconvert_exporter": "python",
   "pygments_lexer": "ipython3",
   "version": "3.6.10"
  }
 },
 "nbformat": 4,
 "nbformat_minor": 4
}
